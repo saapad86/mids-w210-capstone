{
 "cells": [
  {
   "cell_type": "code",
   "execution_count": 1,
   "metadata": {},
   "outputs": [],
   "source": [
    "import os\n",
    "import sys\n",
    "paths = {\n",
    "    'helpers': '/home/spadela/mids-w210-capstone'\n",
    "}\n",
    "for k,v in paths.items():\n",
    "    sys.path.insert(0, v)\n",
    "    \n",
    "import requests\n",
    "import pandas as pd\n",
    "import numpy as np\n",
    "import datetime\n",
    "from copy import deepcopy\n",
    "\n",
    "from bs4 import BeautifulSoup\n",
    "\n",
    "### Set Up Mongo Connection\n",
    "from db import dbToolsMongo\n",
    "db = dbToolsMongo()\n",
    "\n",
    "import time\n",
    "import urllib.parse\n",
    "\n",
    "pd.set_option('display.max_columns', 500)\n",
    "\n",
    "%reload_ext autoreload\n",
    "%autoreload 2"
   ]
  },
  {
   "cell_type": "code",
   "execution_count": 26,
   "metadata": {},
   "outputs": [
    {
     "data": {
      "text/html": [
       "<div>\n",
       "<style scoped>\n",
       "    .dataframe tbody tr th:only-of-type {\n",
       "        vertical-align: middle;\n",
       "    }\n",
       "\n",
       "    .dataframe tbody tr th {\n",
       "        vertical-align: top;\n",
       "    }\n",
       "\n",
       "    .dataframe thead th {\n",
       "        text-align: right;\n",
       "    }\n",
       "</style>\n",
       "<table border=\"1\" class=\"dataframe\">\n",
       "  <thead>\n",
       "    <tr style=\"text-align: right;\">\n",
       "      <th></th>\n",
       "      <th>Unnamed: 0</th>\n",
       "      <th>ICO</th>\n",
       "      <th>STARTUP_NAME</th>\n",
       "      <th>HYPE_SCORE</th>\n",
       "      <th>RISK_SCORE</th>\n",
       "      <th>STATUS</th>\n",
       "      <th>ICO_CODE</th>\n",
       "      <th>RISK_CODE</th>\n",
       "      <th>HYPE_CODE</th>\n",
       "      <th>HYPE_CODE_BINARY</th>\n",
       "      <th>ICO_Updated</th>\n",
       "    </tr>\n",
       "  </thead>\n",
       "  <tbody>\n",
       "    <tr>\n",
       "      <th>0</th>\n",
       "      <td>0</td>\n",
       "      <td>NEO</td>\n",
       "      <td>NEO (NEO)</td>\n",
       "      <td>VERY HIGH</td>\n",
       "      <td>VERY LOW</td>\n",
       "      <td>POST</td>\n",
       "      <td>NEO</td>\n",
       "      <td>1</td>\n",
       "      <td>5</td>\n",
       "      <td>1</td>\n",
       "      <td>neo</td>\n",
       "    </tr>\n",
       "    <tr>\n",
       "      <th>1</th>\n",
       "      <td>1</td>\n",
       "      <td>Cindicator</td>\n",
       "      <td>Cindicator (CND)</td>\n",
       "      <td>HIGH</td>\n",
       "      <td>VERY LOW</td>\n",
       "      <td>POST</td>\n",
       "      <td>CND</td>\n",
       "      <td>1</td>\n",
       "      <td>4</td>\n",
       "      <td>1</td>\n",
       "      <td>cindicator</td>\n",
       "    </tr>\n",
       "    <tr>\n",
       "      <th>2</th>\n",
       "      <td>2</td>\n",
       "      <td>UnikoinGold</td>\n",
       "      <td>UnikoinGold (UKG)</td>\n",
       "      <td>VERY HIGH</td>\n",
       "      <td>VERY LOW</td>\n",
       "      <td>POST</td>\n",
       "      <td>UKG</td>\n",
       "      <td>1</td>\n",
       "      <td>5</td>\n",
       "      <td>1</td>\n",
       "      <td>unikoingold</td>\n",
       "    </tr>\n",
       "    <tr>\n",
       "      <th>3</th>\n",
       "      <td>3</td>\n",
       "      <td>Opus</td>\n",
       "      <td>Opus (OPT)</td>\n",
       "      <td>VERY HIGH</td>\n",
       "      <td>VERY LOW</td>\n",
       "      <td>POST</td>\n",
       "      <td>OPT</td>\n",
       "      <td>1</td>\n",
       "      <td>5</td>\n",
       "      <td>1</td>\n",
       "      <td>opus</td>\n",
       "    </tr>\n",
       "    <tr>\n",
       "      <th>4</th>\n",
       "      <td>4</td>\n",
       "      <td>Shping</td>\n",
       "      <td>Shping (SHPING)</td>\n",
       "      <td>MEDIUM</td>\n",
       "      <td>VERY LOW</td>\n",
       "      <td>POST</td>\n",
       "      <td>SHPING</td>\n",
       "      <td>1</td>\n",
       "      <td>3</td>\n",
       "      <td>1</td>\n",
       "      <td>shping</td>\n",
       "    </tr>\n",
       "  </tbody>\n",
       "</table>\n",
       "</div>"
      ],
      "text/plain": [
       "   Unnamed: 0          ICO       STARTUP_NAME HYPE_SCORE RISK_SCORE STATUS  \\\n",
       "0           0          NEO          NEO (NEO)  VERY HIGH   VERY LOW   POST   \n",
       "1           1   Cindicator   Cindicator (CND)       HIGH   VERY LOW   POST   \n",
       "2           2  UnikoinGold  UnikoinGold (UKG)  VERY HIGH   VERY LOW   POST   \n",
       "3           3         Opus         Opus (OPT)  VERY HIGH   VERY LOW   POST   \n",
       "4           4       Shping    Shping (SHPING)     MEDIUM   VERY LOW   POST   \n",
       "\n",
       "  ICO_CODE  RISK_CODE  HYPE_CODE  HYPE_CODE_BINARY  ICO_Updated  \n",
       "0      NEO          1          5                 1          neo  \n",
       "1      CND          1          4                 1   cindicator  \n",
       "2      UKG          1          5                 1  unikoingold  \n",
       "3      OPT          1          5                 1         opus  \n",
       "4   SHPING          1          3                 1       shping  "
      ]
     },
     "execution_count": 26,
     "metadata": {},
     "output_type": "execute_result"
    }
   ],
   "source": [
    "file = 'ICO_Reddit_Data_v2.csv'\n",
    "df1 = pd.read_csv(file,delimiter='|')\n",
    "df1.head()"
   ]
  },
  {
   "cell_type": "code",
   "execution_count": 27,
   "metadata": {},
   "outputs": [],
   "source": [
    "df1['DECRYPTO_RISK_LABEL'] = df1.apply(lambda x: 'HIGH' if x['RISK_CODE'] == 1 else 'LOW', axis=1)\n",
    "df1['DECRYPTO_HYPE_LABEL'] = df1.apply(lambda x: 'HIGH' if x['HYPE_CODE_BINARY'] == 1 else 'LOW', axis=1)\n",
    "df1 = df1[['ICO_Updated','HYPE_CODE_BINARY','RISK_CODE','DECRYPTO_RISK_LABEL','DECRYPTO_HYPE_LABEL']]\n",
    "df1.columns = ['ICO_JOIN_KEY','HYPE_CODE_BINARY','RISK_CODE','RISK SCORE','HYPE SCORE']"
   ]
  },
  {
   "cell_type": "code",
   "execution_count": 28,
   "metadata": {},
   "outputs": [
    {
     "data": {
      "text/plain": [
       "<pymongo.results.InsertManyResult at 0x7fb9287a8d80>"
      ]
     },
     "execution_count": 28,
     "metadata": {},
     "output_type": "execute_result"
    }
   ],
   "source": [
    "db.db['sp_hype_score'].delete_many({})\n",
    "db.db['sp_hype_score'].insert_many(df1.to_dict('records'))"
   ]
  },
  {
   "cell_type": "code",
   "execution_count": 37,
   "metadata": {},
   "outputs": [
    {
     "data": {
      "text/html": [
       "<div>\n",
       "<style scoped>\n",
       "    .dataframe tbody tr th:only-of-type {\n",
       "        vertical-align: middle;\n",
       "    }\n",
       "\n",
       "    .dataframe tbody tr th {\n",
       "        vertical-align: top;\n",
       "    }\n",
       "\n",
       "    .dataframe thead th {\n",
       "        text-align: right;\n",
       "    }\n",
       "</style>\n",
       "<table border=\"1\" class=\"dataframe\">\n",
       "  <thead>\n",
       "    <tr style=\"text-align: right;\">\n",
       "      <th></th>\n",
       "      <th>HYPE SCORE</th>\n",
       "      <th>HYPE_CODE_BINARY</th>\n",
       "      <th>ICO_JOIN_KEY</th>\n",
       "      <th>RISK SCORE</th>\n",
       "      <th>RISK_CODE</th>\n",
       "      <th>_id</th>\n",
       "    </tr>\n",
       "  </thead>\n",
       "  <tbody>\n",
       "    <tr>\n",
       "      <th>0</th>\n",
       "      <td>HIGH</td>\n",
       "      <td>1</td>\n",
       "      <td>neo</td>\n",
       "      <td>HIGH</td>\n",
       "      <td>1</td>\n",
       "      <td>5b4fde7857c4101afeceb81f</td>\n",
       "    </tr>\n",
       "    <tr>\n",
       "      <th>1</th>\n",
       "      <td>HIGH</td>\n",
       "      <td>1</td>\n",
       "      <td>cindicator</td>\n",
       "      <td>HIGH</td>\n",
       "      <td>1</td>\n",
       "      <td>5b4fde7857c4101afeceb820</td>\n",
       "    </tr>\n",
       "    <tr>\n",
       "      <th>2</th>\n",
       "      <td>HIGH</td>\n",
       "      <td>1</td>\n",
       "      <td>unikoingold</td>\n",
       "      <td>HIGH</td>\n",
       "      <td>1</td>\n",
       "      <td>5b4fde7857c4101afeceb821</td>\n",
       "    </tr>\n",
       "    <tr>\n",
       "      <th>3</th>\n",
       "      <td>HIGH</td>\n",
       "      <td>1</td>\n",
       "      <td>opus</td>\n",
       "      <td>HIGH</td>\n",
       "      <td>1</td>\n",
       "      <td>5b4fde7857c4101afeceb822</td>\n",
       "    </tr>\n",
       "    <tr>\n",
       "      <th>4</th>\n",
       "      <td>HIGH</td>\n",
       "      <td>1</td>\n",
       "      <td>shping</td>\n",
       "      <td>HIGH</td>\n",
       "      <td>1</td>\n",
       "      <td>5b4fde7857c4101afeceb823</td>\n",
       "    </tr>\n",
       "  </tbody>\n",
       "</table>\n",
       "</div>"
      ],
      "text/plain": [
       "  HYPE SCORE  HYPE_CODE_BINARY ICO_JOIN_KEY RISK SCORE  RISK_CODE  \\\n",
       "0       HIGH                 1          neo       HIGH          1   \n",
       "1       HIGH                 1   cindicator       HIGH          1   \n",
       "2       HIGH                 1  unikoingold       HIGH          1   \n",
       "3       HIGH                 1         opus       HIGH          1   \n",
       "4       HIGH                 1       shping       HIGH          1   \n",
       "\n",
       "                        _id  \n",
       "0  5b4fde7857c4101afeceb81f  \n",
       "1  5b4fde7857c4101afeceb820  \n",
       "2  5b4fde7857c4101afeceb821  \n",
       "3  5b4fde7857c4101afeceb822  \n",
       "4  5b4fde7857c4101afeceb823  "
      ]
     },
     "execution_count": 37,
     "metadata": {},
     "output_type": "execute_result"
    }
   ],
   "source": [
    "hype_codes = db.toDF('sp_hype_score')\n",
    "hype_codes.head()"
   ]
  },
  {
   "cell_type": "code",
   "execution_count": 42,
   "metadata": {},
   "outputs": [
    {
     "data": {
      "text/plain": [
       "Index(['HYPE SCORE', 'HYPE_CODE_BINARY', 'ICO_JOIN_KEY', 'RISK SCORE',\n",
       "       'RISK_CODE', '_id'],\n",
       "      dtype='object')"
      ]
     },
     "execution_count": 42,
     "metadata": {},
     "output_type": "execute_result"
    }
   ],
   "source": [
    "hype_codes.columns"
   ]
  },
  {
   "cell_type": "code",
   "execution_count": 43,
   "metadata": {},
   "outputs": [
    {
     "data": {
      "text/html": [
       "<div>\n",
       "<style scoped>\n",
       "    .dataframe tbody tr th:only-of-type {\n",
       "        vertical-align: middle;\n",
       "    }\n",
       "\n",
       "    .dataframe tbody tr th {\n",
       "        vertical-align: top;\n",
       "    }\n",
       "\n",
       "    .dataframe thead th {\n",
       "        text-align: right;\n",
       "    }\n",
       "</style>\n",
       "<table border=\"1\" class=\"dataframe\">\n",
       "  <thead>\n",
       "    <tr style=\"text-align: right;\">\n",
       "      <th></th>\n",
       "      <th></th>\n",
       "      <th>ICO_JOIN_KEY</th>\n",
       "    </tr>\n",
       "    <tr>\n",
       "      <th>RISK SCORE</th>\n",
       "      <th>RISK_CODE</th>\n",
       "      <th></th>\n",
       "    </tr>\n",
       "  </thead>\n",
       "  <tbody>\n",
       "    <tr>\n",
       "      <th>HIGH</th>\n",
       "      <th>1</th>\n",
       "      <td>9</td>\n",
       "    </tr>\n",
       "    <tr>\n",
       "      <th rowspan=\"4\" valign=\"top\">LOW</th>\n",
       "      <th>2</th>\n",
       "      <td>126</td>\n",
       "    </tr>\n",
       "    <tr>\n",
       "      <th>3</th>\n",
       "      <td>483</td>\n",
       "    </tr>\n",
       "    <tr>\n",
       "      <th>4</th>\n",
       "      <td>291</td>\n",
       "    </tr>\n",
       "    <tr>\n",
       "      <th>5</th>\n",
       "      <td>16</td>\n",
       "    </tr>\n",
       "  </tbody>\n",
       "</table>\n",
       "</div>"
      ],
      "text/plain": [
       "                      ICO_JOIN_KEY\n",
       "RISK SCORE RISK_CODE              \n",
       "HIGH       1                     9\n",
       "LOW        2                   126\n",
       "           3                   483\n",
       "           4                   291\n",
       "           5                    16"
      ]
     },
     "execution_count": 43,
     "metadata": {},
     "output_type": "execute_result"
    }
   ],
   "source": [
    "hype_codes.groupby(['RISK SCORE','RISK_CODE']).agg({'ICO_JOIN_KEY': 'count'})"
   ]
  },
  {
   "cell_type": "code",
   "execution_count": 33,
   "metadata": {},
   "outputs": [
    {
     "data": {
      "text/plain": [
       "Index(['ICO_JOIN_KEY', 'HYPE_CODE_BINARY', 'RISK_CODE', 'RISK SCORE',\n",
       "       'HYPE SCORE'],\n",
       "      dtype='object')"
      ]
     },
     "execution_count": 33,
     "metadata": {},
     "output_type": "execute_result"
    }
   ],
   "source": [
    "df1.columns"
   ]
  },
  {
   "cell_type": "code",
   "execution_count": null,
   "metadata": {},
   "outputs": [],
   "source": []
  }
 ],
 "metadata": {
  "kernelspec": {
   "display_name": "Python 3",
   "language": "python",
   "name": "python3"
  },
  "language_info": {
   "codemirror_mode": {
    "name": "ipython",
    "version": 3
   },
   "file_extension": ".py",
   "mimetype": "text/x-python",
   "name": "python",
   "nbconvert_exporter": "python",
   "pygments_lexer": "ipython3",
   "version": "3.6.5"
  }
 },
 "nbformat": 4,
 "nbformat_minor": 2
}
